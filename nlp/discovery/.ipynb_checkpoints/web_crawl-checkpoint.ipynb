{
 "cells": [
  {
   "cell_type": "code",
   "execution_count": null,
   "metadata": {},
   "outputs": [],
   "source": []
  },
  {
   "cell_type": "code",
   "execution_count": null,
   "metadata": {},
   "outputs": [],
   "source": []
  },
  {
   "cell_type": "code",
   "execution_count": 1,
   "metadata": {},
   "outputs": [],
   "source": [
    "import os\n",
    "import sys\n",
    "import errno\n",
    "#from watson_developer_cloud import DiscoveryV1\n",
    "from ibm_watson import DiscoveryV1\n",
    "from dotenv import load_dotenv, find_dotenv\n",
    "import json\n",
    "from ibm_cloud_sdk_core.authenticators import IAMAuthenticator"
   ]
  },
  {
   "cell_type": "code",
   "execution_count": null,
   "metadata": {},
   "outputs": [],
   "source": [
    "# try:\n",
    "#     load_dotenv(find_dotenv())\n",
    "# except IOError:\n",
    "#     print('warning: no .env file loaded')"
   ]
  },
  {
   "cell_type": "code",
   "execution_count": 4,
   "metadata": {},
   "outputs": [
    {
     "name": "stdout",
     "output_type": "stream",
     "text": [
      " environment_id : 329dc8a3-e0d1-49f2-9ec2-3a4bf21dc9c0 \n",
      " configuration_id :  d505f76b-b1d3-459b-ba8d-df52dad4026c \n",
      " collection_id :  ec83fe3f-313a-492f-b30c-a1aa1a5c8b14\n"
     ]
    }
   ],
   "source": [
    "# discovery = DiscoveryV1(\n",
    "#               #url=os.getenv('DISCOVERY_URL'),\n",
    "#               username=os.getenv('DISCOVERY_USERNAME'),\n",
    "#               password=os.getenv('DISCOVERY_PASSWORD'),\n",
    "#               version=\"2018-03-05\"\n",
    "#             )\n",
    "# environment_id = os.getenv('DISCOVERY_ENVIRONMENT_ID')\n",
    "# configuration_id = os.getenv('DISCOVERY_CONFIGURATION_ID')\n",
    "# collection_id =  os.getenv('DISCOVERY_COLLECTION_ID')\n",
    "# service_url = os.getenv('DISCOVERY_URL')\n",
    "\n",
    "# using discovery instance - Discovery-ragudiko-COVID-19-kit-testing\n",
    "api_key = 'aMPOWwYIaCNU4s6WEx2jM1GRCLm6z8m0xjscpQAw4Qtm'\n",
    "service_url = 'https://api.us-south.discovery.watson.cloud.ibm.com/instances/0a6b77b9-6ecd-42b3-80b5-785d946048c1'\n",
    "collection_id = 'ec83fe3f-313a-492f-b30c-a1aa1a5c8b14'\n",
    "configuration_id = 'd505f76b-b1d3-459b-ba8d-df52dad4026c'\n",
    "environment_id = '329dc8a3-e0d1-49f2-9ec2-3a4bf21dc9c0'\n",
    "print(' environment_id :',environment_id,'\\n configuration_id : ',configuration_id,'\\n collection_id : ',collection_id)                                 "
   ]
  },
  {
   "cell_type": "code",
   "execution_count": 5,
   "metadata": {},
   "outputs": [],
   "source": [
    "#from ibm_cloud_sdk_core.authenticators import BasicAuthenticator\n",
    "\n",
    "#authenticator = BasicAuthenticator(os.getenv('DISCOVERY_USERNAME'),os.getenv('DISCOVERY_PASSWORD'))\n",
    "\n",
    "authenticator = IAMAuthenticator(api_key)\n",
    "\n",
    "discovery = DiscoveryV1(\n",
    "    version='2018-03-05',\n",
    "    authenticator=authenticator\n",
    ")\n",
    "\n",
    "discovery.set_service_url(service_url)"
   ]
  },
  {
   "cell_type": "code",
   "execution_count": 11,
   "metadata": {},
   "outputs": [
    {
     "data": {
      "text/plain": [
       "{'credentials': [{'source_type': 'web_crawl',\n",
       "   'credential_id': 'dd8657ac-7765-41f9-b82c-0bb7510ec632',\n",
       "   'credential_details': {'credential_type': 'noauth',\n",
       "    'url': 'https://www.geeksforgeeks.org/binary-search-tree-data-structure'}}]}"
      ]
     },
     "execution_count": 11,
     "metadata": {},
     "output_type": "execute_result"
    }
   ],
   "source": [
    "credentials = discovery.list_credentials(environment_id).result\n",
    "(credentials)"
   ]
  },
  {
   "cell_type": "code",
   "execution_count": 9,
   "metadata": {},
   "outputs": [],
   "source": [
    "credential_details={'credential_type':'noauth', 'url': 'https://www.geeksforgeeks.org/binary-search-tree-data-structure'}"
   ]
  },
  {
   "cell_type": "code",
   "execution_count": 10,
   "metadata": {},
   "outputs": [
    {
     "ename": "AttributeError",
     "evalue": "'dict' object has no attribute 'result'",
     "output_type": "error",
     "traceback": [
      "\u001b[0;31m---------------------------------------------------------------------------\u001b[0m",
      "\u001b[0;31mAttributeError\u001b[0m                            Traceback (most recent call last)",
      "\u001b[0;32m<ipython-input-10-c825b6edd61f>\u001b[0m in \u001b[0;36m<module>\u001b[0;34m\u001b[0m\n\u001b[1;32m      2\u001b[0m creditionals = discovery.create_credentials(environment_id,source_type='web_crawl',\n\u001b[1;32m      3\u001b[0m                                             credential_details=credential_details)\n\u001b[0;32m----> 4\u001b[0;31m \u001b[0mcredentials\u001b[0m\u001b[0;34m.\u001b[0m\u001b[0mresult\u001b[0m\u001b[0;34m\u001b[0m\u001b[0;34m\u001b[0m\u001b[0m\n\u001b[0m",
      "\u001b[0;31mAttributeError\u001b[0m: 'dict' object has no attribute 'result'"
     ]
    }
   ],
   "source": [
    "discovery.set_default_headers\n",
    "creditionals = discovery.create_credentials(environment_id,source_type='web_crawl',\n",
    "                                            credential_details=credential_details)\n"
   ]
  },
  {
   "cell_type": "code",
   "execution_count": 12,
   "metadata": {},
   "outputs": [
    {
     "data": {
      "text/plain": [
       "{'credentials': [{'source_type': 'web_crawl',\n",
       "   'credential_id': 'dd8657ac-7765-41f9-b82c-0bb7510ec632',\n",
       "   'credential_details': {'credential_type': 'noauth',\n",
       "    'url': 'https://www.geeksforgeeks.org/binary-search-tree-data-structure'}}]}"
      ]
     },
     "execution_count": 12,
     "metadata": {},
     "output_type": "execute_result"
    }
   ],
   "source": [
    "credentials = discovery.list_credentials(environment_id).result\n",
    "(credentials)"
   ]
  },
  {
   "cell_type": "code",
   "execution_count": null,
   "metadata": {},
   "outputs": [],
   "source": [
    "discovery.list_credentials(environment_id).result"
   ]
  },
  {
   "cell_type": "code",
   "execution_count": null,
   "metadata": {},
   "outputs": [],
   "source": [
    "# Create Configuration"
   ]
  },
  {
   "cell_type": "code",
   "execution_count": 13,
   "metadata": {},
   "outputs": [
    {
     "name": "stdout",
     "output_type": "stream",
     "text": [
      "{\n",
      "  \"configuration_id\": \"059959ba-b73e-4b04-a276-dfba44acb5f8\",\n",
      "  \"name\": \"multiple_data_source3\",\n",
      "  \"created\": \"2020-04-24T12:39:25.440Z\",\n",
      "  \"updated\": \"2020-04-24T12:39:25.440Z\",\n",
      "  \"description\": \"Configuration for testing-  single collection - connected to multiple data source\",\n",
      "  \"conversions\": {\n",
      "    \"html\": {\n",
      "      \"exclude_content\": {\n",
      "        \"xpaths\": []\n",
      "      },\n",
      "      \"exclude_tag_attributes\": [\n",
      "        \"EVENT_ACTIONS\"\n",
      "      ],\n",
      "      \"exclude_tags_completely\": [\n",
      "        \"script\",\n",
      "        \"sup\"\n",
      "      ],\n",
      "      \"exclude_tags_keep_content\": [\n",
      "        \"font\",\n",
      "        \"em\",\n",
      "        \"span\"\n",
      "      ],\n",
      "      \"keep_content\": {\n",
      "        \"xpaths\": []\n",
      "      }\n",
      "    },\n",
      "    \"json_normalizations\": [\n",
      "      {\n",
      "        \"destination_field\": \"searchTitle\",\n",
      "        \"operation\": \"copy\",\n",
      "        \"source_field\": \"title\"\n",
      "      },\n",
      "      {\n",
      "        \"destination_field\": \"searchText\",\n",
      "        \"operation\": \"copy\",\n",
      "        \"source_field\": \"body\"\n",
      "      },\n",
      "      {\n",
      "        \"operation\": \"remove_nulls\"\n",
      "      }\n",
      "    ],\n",
      "    \"pdf\": {\n",
      "      \"heading\": {\n",
      "        \"fonts\": [\n",
      "          {\n",
      "            \"level\": 1,\n",
      "            \"max_size\": 80,\n",
      "            \"min_size\": 24\n",
      "          },\n",
      "          {\n",
      "            \"bold\": false,\n",
      "            \"italic\": false,\n",
      "            \"level\": 2,\n",
      "            \"max_size\": 24,\n",
      "            \"min_size\": 18\n",
      "          },\n",
      "          {\n",
      "            \"bold\": true,\n",
      "            \"level\": 2,\n",
      "            \"max_size\": 24,\n",
      "            \"min_size\": 18\n",
      "          },\n",
      "          {\n",
      "            \"bold\": false,\n",
      "            \"italic\": false,\n",
      "            \"level\": 3,\n",
      "            \"max_size\": 18,\n",
      "            \"min_size\": 13\n",
      "          },\n",
      "          {\n",
      "            \"bold\": true,\n",
      "            \"level\": 3,\n",
      "            \"max_size\": 18,\n",
      "            \"min_size\": 13\n",
      "          },\n",
      "          {\n",
      "            \"bold\": false,\n",
      "            \"italic\": false,\n",
      "            \"level\": 4,\n",
      "            \"max_size\": 13,\n",
      "            \"min_size\": 11\n",
      "          }\n",
      "        ]\n",
      "      }\n",
      "    },\n",
      "    \"word\": {\n",
      "      \"heading\": {\n",
      "        \"fonts\": [\n",
      "          {\n",
      "            \"bold\": false,\n",
      "            \"italic\": false,\n",
      "            \"level\": 1,\n",
      "            \"min_size\": 24\n",
      "          },\n",
      "          {\n",
      "            \"bold\": true,\n",
      "            \"italic\": false,\n",
      "            \"level\": 2,\n",
      "            \"max_size\": 23,\n",
      "            \"min_size\": 18\n",
      "          },\n",
      "          {\n",
      "            \"bold\": false,\n",
      "            \"italic\": false,\n",
      "            \"level\": 3,\n",
      "            \"max_size\": 17,\n",
      "            \"min_size\": 14\n",
      "          },\n",
      "          {\n",
      "            \"bold\": true,\n",
      "            \"italic\": false,\n",
      "            \"level\": 4,\n",
      "            \"max_size\": 13,\n",
      "            \"min_size\": 13\n",
      "          }\n",
      "        ],\n",
      "        \"styles\": [\n",
      "          {\n",
      "            \"level\": 1,\n",
      "            \"names\": [\n",
      "              \"pullout heading\",\n",
      "              \"pulloutheading\",\n",
      "              \"header\"\n",
      "            ]\n",
      "          },\n",
      "          {\n",
      "            \"level\": 2,\n",
      "            \"names\": [\n",
      "              \"subtitle\"\n",
      "            ]\n",
      "          }\n",
      "        ]\n",
      "      }\n",
      "    }\n",
      "  },\n",
      "  \"enrichments\": [\n",
      "    {\n",
      "      \"destination_field\": \"enriched_html\",\n",
      "      \"enrichment\": \"elements\",\n",
      "      \"options\": {\n",
      "        \"model\": \"contract\"\n",
      "      },\n",
      "      \"source_field\": \"html\"\n",
      "    },\n",
      "    {\n",
      "      \"destination_field\": \"enriched_title\",\n",
      "      \"enrichment\": \"natural_language_understanding\",\n",
      "      \"options\": {\n",
      "        \"features\": {\n",
      "          \"categories\": {},\n",
      "          \"concepts\": {\n",
      "            \"limit\": 8\n",
      "          },\n",
      "          \"emotion\": {\n",
      "            \"document\": true,\n",
      "            \"targets\": [\n",
      "              \"IBM\",\n",
      "              \"Watson\"\n",
      "            ]\n",
      "          },\n",
      "          \"entities\": {\n",
      "            \"emotion\": false,\n",
      "            \"limit\": 50,\n",
      "            \"mention_types\": true,\n",
      "            \"mentions\": true,\n",
      "            \"model\": \"WKS-model-id\",\n",
      "            \"sentence_locations\": true,\n",
      "            \"sentiment\": true\n",
      "          },\n",
      "          \"keywords\": {\n",
      "            \"emotion\": false,\n",
      "            \"limit\": 50,\n",
      "            \"sentiment\": true\n",
      "          },\n",
      "          \"relations\": {\n",
      "            \"model\": \"WKS-model-id\"\n",
      "          },\n",
      "          \"semantic_roles\": {\n",
      "            \"entities\": true,\n",
      "            \"keywords\": true,\n",
      "            \"limit\": 50\n",
      "          },\n",
      "          \"sentiment\": {\n",
      "            \"document\": true,\n",
      "            \"targets\": [\n",
      "              \"IBM\",\n",
      "              \"Watson\"\n",
      "            ]\n",
      "          }\n",
      "        }\n",
      "      },\n",
      "      \"source_field\": \"title\"\n",
      "    }\n",
      "  ],\n",
      "  \"normalizations\": [\n",
      "    {\n",
      "      \"destination_field\": \"enrichedText\",\n",
      "      \"operation\": \"copy\",\n",
      "      \"source_field\": \"body_enriched.keywords.text\"\n",
      "    },\n",
      "    {\n",
      "      \"destination_field\": \"conceptText\",\n",
      "      \"operation\": \"copy\",\n",
      "      \"source_field\": \"body_enriched.concepts.text\"\n",
      "    },\n",
      "    {\n",
      "      \"destination_field\": \"enrichedText\",\n",
      "      \"operation\": \"merge\",\n",
      "      \"source_field\": \"conceptText\"\n",
      "    },\n",
      "    {\n",
      "      \"destination_field\": \"searchText\",\n",
      "      \"operation\": \"merge\",\n",
      "      \"source_field\": \"searchTitle\"\n",
      "    }\n",
      "  ]\n",
      "}\n"
     ]
    }
   ],
   "source": [
    "with open(os.path.join(os.getcwd(), 'config.json')) as config_data:\n",
    "    data = json.load(config_data)\n",
    "    new_config = discovery.create_configuration(\n",
    "        environment_id,\n",
    "        data['name'],\n",
    "        description=data['description'], \n",
    "        conversions=data['conversions'],\n",
    "        enrichments=data['enrichments'], \n",
    "        normalizations=data['normalizations']).get_result()\n",
    "    print(json.dumps(new_config, indent=2))"
   ]
  },
  {
   "cell_type": "code",
   "execution_count": 14,
   "metadata": {},
   "outputs": [
    {
     "data": {
      "text/plain": [
       "'059959ba-b73e-4b04-a276-dfba44acb5f8'"
      ]
     },
     "execution_count": 14,
     "metadata": {},
     "output_type": "execute_result"
    }
   ],
   "source": [
    "configuration_id = new_config['configuration_id']\n",
    "configuration_id"
   ]
  },
  {
   "cell_type": "code",
   "execution_count": null,
   "metadata": {},
   "outputs": [],
   "source": [
    "# Create new Collection"
   ]
  },
  {
   "cell_type": "code",
   "execution_count": 15,
   "metadata": {},
   "outputs": [
    {
     "name": "stdout",
     "output_type": "stream",
     "text": [
      "{\n",
      "  \"name\": \"multi_data_source_1\",\n",
      "  \"collection_id\": \"113bd94e-5475-4adc-b28c-95dee4e18dae\",\n",
      "  \"description\": \"collection connected to multiple data source- local file system and web crawl\",\n",
      "  \"created\": \"2020-04-24T12:39:35.283Z\",\n",
      "  \"updated\": \"2020-04-24T12:39:35.283Z\",\n",
      "  \"configuration_id\": \"059959ba-b73e-4b04-a276-dfba44acb5f8\",\n",
      "  \"language\": \"en\",\n",
      "  \"status\": \"active\"\n",
      "}\n"
     ]
    }
   ],
   "source": [
    "collection_multi_data_source = discovery.create_collection(\n",
    "    environment_id=environment_id,\n",
    "    configuration_id=configuration_id, \n",
    "    name='multi_data_source_1', \n",
    "    description='collection connected to multiple data source- local file system and web crawl',\n",
    "     language='en').get_result()\n",
    "print(json.dumps(collection_multi_data_source, indent=2))"
   ]
  },
  {
   "cell_type": "code",
   "execution_count": 16,
   "metadata": {},
   "outputs": [
    {
     "data": {
      "text/plain": [
       "'113bd94e-5475-4adc-b28c-95dee4e18dae'"
      ]
     },
     "execution_count": 16,
     "metadata": {},
     "output_type": "execute_result"
    }
   ],
   "source": [
    "collection_id = collection_multi_data_source['collection_id']\n",
    "collection_id"
   ]
  },
  {
   "cell_type": "code",
   "execution_count": null,
   "metadata": {},
   "outputs": [],
   "source": []
  },
  {
   "cell_type": "code",
   "execution_count": 17,
   "metadata": {},
   "outputs": [
    {
     "name": "stdout",
     "output_type": "stream",
     "text": [
      "{'matching_results': 0, 'session_token': '1_9TLPs2hczVaZfg53_lJh0msET7', 'results': []}\n"
     ]
    }
   ],
   "source": [
    "notices = discovery.query_notices(environment_id, collection_id, filter=None, query=None, natural_language_query=None, \n",
    "              passages=None, aggregation=None, count=None, return_=None, offset=None, sort=None, highlight=None, \n",
    "              passages_fields=None, passages_count=None, passages_characters=None, deduplicate_field=None, \n",
    "              similar=None, similar_document_ids=None, similar_fields=None)\n",
    "print(notices.result)"
   ]
  },
  {
   "cell_type": "code",
   "execution_count": 18,
   "metadata": {
    "collapsed": true
   },
   "outputs": [
    {
     "name": "stdout",
     "output_type": "stream",
     "text": [
      "{\n",
      "  \"configuration_id\": \"059959ba-b73e-4b04-a276-dfba44acb5f8\",\n",
      "  \"status\": \"deleted\",\n",
      "  \"notices\": [\n",
      "    {\n",
      "      \"notice_id\": \"configuration_in_use\",\n",
      "      \"created\": \"2020-04-24T12:41:43.520Z\",\n",
      "      \"severity\": \"warning\",\n",
      "      \"description\": \"The configuration was deleted, but it is referenced by one or more collections.\"\n",
      "    }\n",
      "  ]\n",
      "}\n"
     ]
    }
   ],
   "source": [
    "config_delete = discovery.delete_configuration(environment_id, configuration_id).get_result()\n",
    "print(json.dumps(config_delete, indent=2))"
   ]
  },
  {
   "cell_type": "code",
   "execution_count": 19,
   "metadata": {
    "collapsed": true
   },
   "outputs": [
    {
     "name": "stdout",
     "output_type": "stream",
     "text": [
      "{\n",
      "  \"collection_id\": \"113bd94e-5475-4adc-b28c-95dee4e18dae\",\n",
      "  \"status\": \"deleted\"\n",
      "}\n"
     ]
    }
   ],
   "source": [
    "delete_collection = discovery.delete_collection(\n",
    "    environment_id, \n",
    "    collection_id).get_result()\n",
    "print(json.dumps(delete_collection, indent=2))"
   ]
  },
  {
   "cell_type": "code",
   "execution_count": null,
   "metadata": {},
   "outputs": [],
   "source": []
  }
 ],
 "metadata": {
  "kernelspec": {
   "display_name": "Python 3",
   "language": "python",
   "name": "python3"
  },
  "language_info": {
   "codemirror_mode": {
    "name": "ipython",
    "version": 3
   },
   "file_extension": ".py",
   "mimetype": "text/x-python",
   "name": "python",
   "nbconvert_exporter": "python",
   "pygments_lexer": "ipython3",
   "version": "3.7.6"
  }
 },
 "nbformat": 4,
 "nbformat_minor": 4
}
