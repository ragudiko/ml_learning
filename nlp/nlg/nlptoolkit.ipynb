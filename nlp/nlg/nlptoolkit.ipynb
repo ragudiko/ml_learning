{
 "cells": [
  {
   "cell_type": "code",
   "execution_count": 1,
   "metadata": {},
   "outputs": [
    {
     "name": "stdout",
     "output_type": "stream",
     "text": [
      "Collecting nlglib\n",
      "\u001b[?25l  Downloading https://files.pythonhosted.org/packages/d2/bd/e3572164a3aaa806019c6f51c53d036d256b7c8fc03a880d3a2e073675cd/nlglib-0.2.1-py3-none-any.whl (3.3MB)\n",
      "\u001b[K    100% |████████████████████████████████| 3.3MB 7.6MB/s eta 0:00:01\n",
      "\u001b[?25hRequirement already satisfied: nltk in /Users/rajeshgudikoti/anaconda3/lib/python3.7/site-packages (from nlglib) (3.2)\n",
      "Installing collected packages: nlglib\n",
      "Successfully installed nlglib-0.2.1\n",
      "\u001b[33mYou are using pip version 19.0.1, however version 19.0.3 is available.\n",
      "You should consider upgrading via the 'pip install --upgrade pip' command.\u001b[0m\n"
     ]
    }
   ],
   "source": [
    "# https://pypi.org/project/nlglib/\n",
    "!pip3 install nlglib"
   ]
  },
  {
   "cell_type": "code",
   "execution_count": 2,
   "metadata": {},
   "outputs": [],
   "source": [
    "from nlglib.realisation.simplenlg.realisation import Realiser\n",
    "from nlglib.microplanning import *"
   ]
  },
  {
   "cell_type": "code",
   "execution_count": 3,
   "metadata": {},
   "outputs": [],
   "source": [
    "realise_en = Realiser(host='nlg.kutlak.info', port=40000)\n",
    "realise_es = Realiser(host='nlg.kutlak.info', port=40001)"
   ]
  },
  {
   "cell_type": "code",
   "execution_count": 5,
   "metadata": {},
   "outputs": [
    {
     "name": "stdout",
     "output_type": "stream",
     "text": [
      "María persiguió un mono.\n",
      "La rápida corredora persigue un mono.\n",
      "This example shows how cool simplenlg is.\n",
      "Ragvendra Despande IBM Advocate conducts Blockachain session.\n"
     ]
    }
   ],
   "source": [
    "def main():\n",
    "    p = Clause(\"María\", \"perseguir\", \"un mono\")\n",
    "    p['TENSE'] = 'PAST'\n",
    "    # expected = 'María persigue un mono.'\n",
    "    print(realise_es(p))\n",
    "    p = Clause(NP(\"la\", \"rápida\", \"corredora\"), VP(\"perseguir\"), NP(\"un\", \"mono\"))\n",
    "    subject = NP(\"la\", \"corredora\")\n",
    "    objekt = NP(\"un\", \"mono\")\n",
    "    verb = VP(\"perseguir\")\n",
    "    subject.premodifiers.append(\"rápida\")\n",
    "    p.subject = subject\n",
    "    p.predicate = verb\n",
    "    p.object = objekt\n",
    "    # expected = 'La rápida corredora persigue un mono.'\n",
    "    print(realise_es(p))\n",
    "    p = Clause(NP('this', 'example'), VP('show', 'how cool simplenlg is'))\n",
    "    # expected = This example shows how cool simplenlg is.\n",
    "    print(realise_en(p))\n",
    "    \n",
    "    p = Clause(NP('Ragvendra Despande', 'IBM Advocate'), VP('conduct', 'Blockachain session'))\n",
    "    print(realise_en(p))\n",
    "\n",
    "\n",
    "if __name__ == '__main__':\n",
    "    main()"
   ]
  },
  {
   "cell_type": "code",
   "execution_count": null,
   "metadata": {},
   "outputs": [],
   "source": []
  },
  {
   "cell_type": "code",
   "execution_count": 6,
   "metadata": {},
   "outputs": [
    {
     "name": "stdout",
     "output_type": "stream",
     "text": [
      "Collecting simplenlg\n",
      "\u001b[?25l  Downloading https://files.pythonhosted.org/packages/fb/81/2394ff7f3d562f2229e4b4859d66913296d96e409db1443f226aeaa840df/simplenlg-0.2.0-py3-none-any.whl (165kB)\n",
      "\u001b[K    100% |████████████████████████████████| 174kB 631kB/s ta 0:00:01\n",
      "\u001b[?25hInstalling collected packages: simplenlg\n",
      "Successfully installed simplenlg-0.2.0\n",
      "\u001b[33mYou are using pip version 19.0.1, however version 19.0.3 is available.\n",
      "You should consider upgrading via the 'pip install --upgrade pip' command.\u001b[0m\n"
     ]
    }
   ],
   "source": [
    "# https://github.com/bjascob/pySimpleNLG\n",
    "!pip3 install simplenlg\n"
   ]
  },
  {
   "cell_type": "code",
   "execution_count": 48,
   "metadata": {},
   "outputs": [],
   "source": [
    "from simplenlg.realiser.english.Realiser    import *\n",
    "from simplenlg.phrasespec import *\n",
    "#from nlglib.microplanning import *"
   ]
  },
  {
   "cell_type": "code",
   "execution_count": null,
   "metadata": {},
   "outputs": [],
   "source": []
  },
  {
   "cell_type": "code",
   "execution_count": 12,
   "metadata": {},
   "outputs": [],
   "source": [
    "#!pip install markover"
   ]
  },
  {
   "cell_type": "markdown",
   "metadata": {},
   "source": [
    "# Sample examples"
   ]
  },
  {
   "cell_type": "code",
   "execution_count": 38,
   "metadata": {},
   "outputs": [],
   "source": [
    "from simplenlg import NLGFactory\n",
    "from simplenlg import Lexicon\n",
    "from simplenlg import Realiser as realiser\n",
    "from simplenlg.phrasespec import *"
   ]
  },
  {
   "cell_type": "code",
   "execution_count": 52,
   "metadata": {},
   "outputs": [
    {
     "name": "stdout",
     "output_type": "stream",
     "text": [
      "Rajesh writes the blog.\n"
     ]
    }
   ],
   "source": [
    "lexicon    = Lexicon.getDefaultLexicon()\n",
    "nlgFactory = NLGFactory(lexicon)\n",
    "realiser   = Realiser(lexicon)\n",
    "\n",
    "sentence1 = nlgFactory.createSentence()\n",
    "\n",
    "clause_1 = nlgFactory.createClause();\n",
    "#subject1 = nlgFactory._createNP1(\"Rajesh\")\n",
    "subject1 = nlgFactory.createNounPhrase(\"Rajesh\")\n",
    "\n",
    "object1 = nlgFactory.createNounPhrase(\"the blog\")\n",
    "verb = nlgFactory.createVerbPhrase(\"write\")\n",
    "clause_1.setSubject(subject1)\n",
    "clause_1.setObject(object1)\n",
    "clause_1.setVerb(verb)\n",
    "\n",
    "sentence1.addComponent(clause_1)\n",
    "elements = [sentence1]\n",
    "print(realiser.realise(sentence1))\n"
   ]
  },
  {
   "cell_type": "code",
   "execution_count": 54,
   "metadata": {},
   "outputs": [
    {
     "name": "stdout",
     "output_type": "stream",
     "text": [
      "Rajesh and team member Ramesh write the blog.\n"
     ]
    }
   ],
   "source": [
    "clause_2 = nlgFactory.createClause()\n",
    "subject2 = nlgFactory.createNounPhrase(\"team member\", \"Ramesh\")\n",
    "subject = nlgFactory.createCoordinatedPhrase(subject1, subject2) \n",
    "clause_2.setSubject(subject)\n",
    "clause_2.setObject(object1)\n",
    "clause_2.setVerb(verb)\n",
    "\n",
    "sentence2 = nlgFactory.createSentence()\n",
    "sentence2.addComponent(clause_2)\n",
    "\n",
    "print(realiser.realise(sentence2))"
   ]
  },
  {
   "cell_type": "code",
   "execution_count": 59,
   "metadata": {},
   "outputs": [
    {
     "name": "stdout",
     "output_type": "stream",
     "text": [
      "Rajesh and team member Ramesh write the blog, create pattern or tutorials.\n"
     ]
    }
   ],
   "source": [
    "clause_3 = nlgFactory.createClause()\n",
    "object2 = nlgFactory.createNounPhrase(\"create pattern\")\n",
    "obj = nlgFactory.createCoordinatedPhrase(object1, object2)\n",
    "obj.addCoordinate(\"tutorials\")\n",
    "obj.setFeature(Feature.CONJUNCTION, \"or\") ## if this is commented then you will get and instead of or\n",
    "clause_3.setSubject(subject)\n",
    "clause_3.setVerb(verb)\n",
    "clause_3.setObject(obj);\n",
    "\n",
    "sentence3 = nlgFactory.createSentence()\n",
    "sentence3.addComponent(clause_3)\n",
    "print(realiser.realise(sentence3))"
   ]
  },
  {
   "cell_type": "markdown",
   "metadata": {},
   "source": [
    "# Explore wrike report"
   ]
  },
  {
   "cell_type": "code",
   "execution_count": 1,
   "metadata": {},
   "outputs": [],
   "source": [
    "from simplenlg import NLGFactory\n",
    "from simplenlg import Lexicon\n",
    "from simplenlg.realiser.english.Realiser import Realiser\n",
    "from simplenlg.phrasespec import *"
   ]
  },
  {
   "cell_type": "code",
   "execution_count": 2,
   "metadata": {},
   "outputs": [],
   "source": [
    "import pandas as pd\n",
    "import numpy as np"
   ]
  },
  {
   "cell_type": "code",
   "execution_count": 3,
   "metadata": {},
   "outputs": [],
   "source": [
    "def main():    \n",
    "    xl = pd.ExcelFile(\"/Users/rajeshgudikoti/Documents/rajesh/learning/nlp/nlptoolkit/Wrike Report-Feb 25.xls\")\n",
    "    print(xl.sheet_names)\n",
    "    df = xl.parse()\n",
    "    print(df.head(1))\n",
    "    data = df.loc[(df['Custom status'] == 'Completed')] # & (df['Assigned To'] =='Sudharshan Govindan <sudharshan.govindan@in.ibm.com>')]\n",
    "    #print(data)\n",
    "    print('*******')\n",
    "    #print(data['Assigned To'].values)\n",
    "    type(data['Assigned To'].values)\n",
    "    lexicon    = Lexicon.getDefaultLexicon()\n",
    "    nlgFactory = NLGFactory(lexicon)\n",
    "    realiser   = simplenlg.realiser.english.Realiser(lexicon) ### correct this\n",
    "\n",
    "    sentence = nlgFactory.createSentence()\n",
    "    clause = nlgFactory.createClause();\n",
    "    #assigned_to = data['Assigned To']\n",
    "    #assigned_to = data['Assigned To'].astype('str').tail(1).tolist()\n",
    "\n",
    "    #converting to string series \n",
    "    #print('title ', data[\"Title\"])\n",
    "    #title= data[\"Title\"].to_string()\n",
    "    #assigned_to= data[\"Assigned To\"].to_string()\n",
    "    #speakers= data[\"Speakers\"].to_string()\n",
    "    #start_date= data[\"Start Date\"].to_string()\n",
    "\n",
    "    #print(type(data[\"Assigned To\"].to_string()), type(assigned_to))\n",
    "\n",
    "    title= data[\"Title\"].values\n",
    "    assigned_to = data['Assigned To'].values\n",
    "    speakers = data[\"Speakers\"].values\n",
    "    start_date= data[\"Start Date\"].values\n",
    "    project_event_type = data[\"Project/Event Type\"].values\n",
    "    event_project_city = data[\"Event/Project City\"].values\n",
    "    developers_reached_actual = data[\"Developers Reached - Actual\"].values\n",
    "\n",
    "    #print('\\n ***** \\n title:', title, ' assigned_to:', assigned_to, ' speakers:', speakers, ' start_date:',start_date)\n",
    "    print(type(start_date[1]), start_date[1], np.datetime_as_string(start_date[1]), type(np.datetime_as_string(start_date[1])))\n",
    "\n",
    "    sentence_1 = nlgFactory.createSentence()\n",
    "    clause_1 = nlgFactory.createClause();\n",
    "\n",
    "    sub1 = nlgFactory.createNounPhrase(speakers[1])\n",
    "    verb1 = nlgFactory.createVerbPhrase(\"conduct\")\n",
    "    verb1.setFeature(Feature.FORM, Form.PAST_PARTICIPLE)\n",
    "    #clause.setFeature(Feature.TENSE, Tense.PAST)\n",
    "    obj1 = nlgFactory.createNounPhrase('\"' + title[1] + '\"' + ' ' + project_event_type[1])\n",
    "    #obj2 = nlgFactory.createNounPhrase(project_event_type[0])\n",
    "    #sub2 = nlgFactory.createNounPhrase(assigned_to[0])\n",
    "\n",
    "    on_preposition = nlgFactory.createPrepositionPhrase(\"on\")\n",
    "    startdate = nlgFactory.createNounPhrase(np.datetime_as_string(start_date[1]))  # ***\n",
    "    #nlgFactory.createNounPhrase(start_date[1])\n",
    "\n",
    "    on_preposition.addComplement(startdate)\n",
    "    \n",
    "    clause_1.setSubject(sub1)\n",
    "    clause_1.setVerb(verb1)\n",
    "    clause_1.setObject(obj1);\n",
    "\n",
    "    clause_1.addComplement(on_preposition);\n",
    "\n",
    "    if(project_event_type[1] !='Webinar'):\n",
    "        at_preposition = nlgFactory.createPrepositionPhrase(\"at\");\n",
    "        location = nlgFactory.createNounPhrase(event_project_city[1])\n",
    "        at_preposition.addComplement(location)\n",
    "        clause_1.addComplement(at_preposition)\n",
    "\n",
    "\n",
    "    sentence_1.addComponent(clause_1)\n",
    "    print(realiser.realise(sentence_1))\n",
    "    \n",
    "    sentence_2 = nlgFactory.createSentence()\n",
    "    clause_2 = nlgFactory.createClause();\n",
    "\n",
    "    sub2 = nlgFactory.createNounPhrase('number of developers')\n",
    "    sub2.setDeterminer(\"the\")\n",
    "    sub2.setPlural(True)\n",
    "    verb2 = nlgFactory.createVerbPhrase(\"attend\")\n",
    "    verb2.setFeature(Feature.FORM, Form.PAST_PARTICIPLE)\n",
    "    clause.setFeature(Feature.TENSE, Tense.PAST)\n",
    "\n",
    "    #clause.setFeature(Feature.NUMBER, 11)\n",
    "    is_preposition = nlgFactory.createPrepositionPhrase(\"is\");\n",
    "    obj2 = nlgFactory.createNounPhrase(developers_reached_actual[1].astype(str)) # ***\n",
    "    is_preposition.addComplement(obj2)\n",
    "\n",
    "    clause_2.setSubject(sub2)\n",
    "    clause_2.setVerb(verb2)\n",
    "    #clause_2.setObject(obj2);\n",
    "\n",
    "    clause_2.addComplement(is_preposition);\n",
    "\n",
    "    sentence_2 = nlgFactory.createSentence()\n",
    "    sentence_2.addComponent(clause_2)\n",
    "    print(realiser.realise(sentence_2))\n",
    "    \n",
    "    \n",
    "    para1 = nlgFactory.createParagraph()\n",
    "    para1.addComponent(sentence_1)\n",
    "    para1.addComponent(sentence_2)\n",
    "    print(realiser.realise(para1).getRealisation())"
   ]
  },
  {
   "cell_type": "code",
   "execution_count": 4,
   "metadata": {},
   "outputs": [
    {
     "ename": "FileNotFoundError",
     "evalue": "[Errno 2] No such file or directory: '/Users/rajeshgudikoti/Documents/rajesh/learning/nlp/nlptoolkit/Wrike Report-Feb 25.xls'",
     "output_type": "error",
     "traceback": [
      "\u001b[0;31m---------------------------------------------------------------------------\u001b[0m",
      "\u001b[0;31mFileNotFoundError\u001b[0m                         Traceback (most recent call last)",
      "\u001b[0;32m<ipython-input-4-c7bc734e5e35>\u001b[0m in \u001b[0;36m<module>\u001b[0;34m()\u001b[0m\n\u001b[1;32m      1\u001b[0m \u001b[0;32mif\u001b[0m \u001b[0m__name__\u001b[0m \u001b[0;34m==\u001b[0m \u001b[0;34m'__main__'\u001b[0m\u001b[0;34m:\u001b[0m\u001b[0;34m\u001b[0m\u001b[0;34m\u001b[0m\u001b[0m\n\u001b[0;32m----> 2\u001b[0;31m     \u001b[0mmain\u001b[0m\u001b[0;34m(\u001b[0m\u001b[0;34m)\u001b[0m\u001b[0;34m\u001b[0m\u001b[0;34m\u001b[0m\u001b[0m\n\u001b[0m",
      "\u001b[0;32m<ipython-input-3-0baf50d3f140>\u001b[0m in \u001b[0;36mmain\u001b[0;34m()\u001b[0m\n\u001b[1;32m      1\u001b[0m \u001b[0;32mdef\u001b[0m \u001b[0mmain\u001b[0m\u001b[0;34m(\u001b[0m\u001b[0;34m)\u001b[0m\u001b[0;34m:\u001b[0m\u001b[0;34m\u001b[0m\u001b[0;34m\u001b[0m\u001b[0m\n\u001b[0;32m----> 2\u001b[0;31m     \u001b[0mxl\u001b[0m \u001b[0;34m=\u001b[0m \u001b[0mpd\u001b[0m\u001b[0;34m.\u001b[0m\u001b[0mExcelFile\u001b[0m\u001b[0;34m(\u001b[0m\u001b[0;34m\"/Users/rajeshgudikoti/Documents/rajesh/learning/nlp/nlptoolkit/Wrike Report-Feb 25.xls\"\u001b[0m\u001b[0;34m)\u001b[0m\u001b[0;34m\u001b[0m\u001b[0;34m\u001b[0m\u001b[0m\n\u001b[0m\u001b[1;32m      3\u001b[0m     \u001b[0mprint\u001b[0m\u001b[0;34m(\u001b[0m\u001b[0mxl\u001b[0m\u001b[0;34m.\u001b[0m\u001b[0msheet_names\u001b[0m\u001b[0;34m)\u001b[0m\u001b[0;34m\u001b[0m\u001b[0;34m\u001b[0m\u001b[0m\n\u001b[1;32m      4\u001b[0m     \u001b[0mdf\u001b[0m \u001b[0;34m=\u001b[0m \u001b[0mxl\u001b[0m\u001b[0;34m.\u001b[0m\u001b[0mparse\u001b[0m\u001b[0;34m(\u001b[0m\u001b[0;34m)\u001b[0m\u001b[0;34m\u001b[0m\u001b[0;34m\u001b[0m\u001b[0m\n\u001b[1;32m      5\u001b[0m     \u001b[0mprint\u001b[0m\u001b[0;34m(\u001b[0m\u001b[0mdf\u001b[0m\u001b[0;34m.\u001b[0m\u001b[0mhead\u001b[0m\u001b[0;34m(\u001b[0m\u001b[0;36m1\u001b[0m\u001b[0;34m)\u001b[0m\u001b[0;34m)\u001b[0m\u001b[0;34m\u001b[0m\u001b[0;34m\u001b[0m\u001b[0m\n",
      "\u001b[0;32m~/anaconda3/lib/python3.7/site-packages/pandas/io/excel.py\u001b[0m in \u001b[0;36m__init__\u001b[0;34m(self, io, **kwds)\u001b[0m\n\u001b[1;32m    392\u001b[0m             \u001b[0mself\u001b[0m\u001b[0;34m.\u001b[0m\u001b[0mbook\u001b[0m \u001b[0;34m=\u001b[0m \u001b[0mxlrd\u001b[0m\u001b[0;34m.\u001b[0m\u001b[0mopen_workbook\u001b[0m\u001b[0;34m(\u001b[0m\u001b[0mfile_contents\u001b[0m\u001b[0;34m=\u001b[0m\u001b[0mdata\u001b[0m\u001b[0;34m)\u001b[0m\u001b[0;34m\u001b[0m\u001b[0;34m\u001b[0m\u001b[0m\n\u001b[1;32m    393\u001b[0m         \u001b[0;32melif\u001b[0m \u001b[0misinstance\u001b[0m\u001b[0;34m(\u001b[0m\u001b[0mself\u001b[0m\u001b[0;34m.\u001b[0m\u001b[0m_io\u001b[0m\u001b[0;34m,\u001b[0m \u001b[0mcompat\u001b[0m\u001b[0;34m.\u001b[0m\u001b[0mstring_types\u001b[0m\u001b[0;34m)\u001b[0m\u001b[0;34m:\u001b[0m\u001b[0;34m\u001b[0m\u001b[0;34m\u001b[0m\u001b[0m\n\u001b[0;32m--> 394\u001b[0;31m             \u001b[0mself\u001b[0m\u001b[0;34m.\u001b[0m\u001b[0mbook\u001b[0m \u001b[0;34m=\u001b[0m \u001b[0mxlrd\u001b[0m\u001b[0;34m.\u001b[0m\u001b[0mopen_workbook\u001b[0m\u001b[0;34m(\u001b[0m\u001b[0mself\u001b[0m\u001b[0;34m.\u001b[0m\u001b[0m_io\u001b[0m\u001b[0;34m)\u001b[0m\u001b[0;34m\u001b[0m\u001b[0;34m\u001b[0m\u001b[0m\n\u001b[0m\u001b[1;32m    395\u001b[0m         \u001b[0;32melse\u001b[0m\u001b[0;34m:\u001b[0m\u001b[0;34m\u001b[0m\u001b[0;34m\u001b[0m\u001b[0m\n\u001b[1;32m    396\u001b[0m             raise ValueError('Must explicitly set engine if not passing in'\n",
      "\u001b[0;32m~/anaconda3/lib/python3.7/site-packages/xlrd/__init__.py\u001b[0m in \u001b[0;36mopen_workbook\u001b[0;34m(filename, logfile, verbosity, use_mmap, file_contents, encoding_override, formatting_info, on_demand, ragged_rows)\u001b[0m\n\u001b[1;32m    114\u001b[0m         \u001b[0mpeek\u001b[0m \u001b[0;34m=\u001b[0m \u001b[0mfile_contents\u001b[0m\u001b[0;34m[\u001b[0m\u001b[0;34m:\u001b[0m\u001b[0mpeeksz\u001b[0m\u001b[0;34m]\u001b[0m\u001b[0;34m\u001b[0m\u001b[0;34m\u001b[0m\u001b[0m\n\u001b[1;32m    115\u001b[0m     \u001b[0;32melse\u001b[0m\u001b[0;34m:\u001b[0m\u001b[0;34m\u001b[0m\u001b[0;34m\u001b[0m\u001b[0m\n\u001b[0;32m--> 116\u001b[0;31m         \u001b[0;32mwith\u001b[0m \u001b[0mopen\u001b[0m\u001b[0;34m(\u001b[0m\u001b[0mfilename\u001b[0m\u001b[0;34m,\u001b[0m \u001b[0;34m\"rb\"\u001b[0m\u001b[0;34m)\u001b[0m \u001b[0;32mas\u001b[0m \u001b[0mf\u001b[0m\u001b[0;34m:\u001b[0m\u001b[0;34m\u001b[0m\u001b[0;34m\u001b[0m\u001b[0m\n\u001b[0m\u001b[1;32m    117\u001b[0m             \u001b[0mpeek\u001b[0m \u001b[0;34m=\u001b[0m \u001b[0mf\u001b[0m\u001b[0;34m.\u001b[0m\u001b[0mread\u001b[0m\u001b[0;34m(\u001b[0m\u001b[0mpeeksz\u001b[0m\u001b[0;34m)\u001b[0m\u001b[0;34m\u001b[0m\u001b[0;34m\u001b[0m\u001b[0m\n\u001b[1;32m    118\u001b[0m     \u001b[0;32mif\u001b[0m \u001b[0mpeek\u001b[0m \u001b[0;34m==\u001b[0m \u001b[0;34mb\"PK\\x03\\x04\"\u001b[0m\u001b[0;34m:\u001b[0m \u001b[0;31m# a ZIP file\u001b[0m\u001b[0;34m\u001b[0m\u001b[0;34m\u001b[0m\u001b[0m\n",
      "\u001b[0;31mFileNotFoundError\u001b[0m: [Errno 2] No such file or directory: '/Users/rajeshgudikoti/Documents/rajesh/learning/nlp/nlptoolkit/Wrike Report-Feb 25.xls'"
     ]
    }
   ],
   "source": [
    "if __name__ == '__main__':\n",
    "    main()"
   ]
  },
  {
   "cell_type": "code",
   "execution_count": null,
   "metadata": {},
   "outputs": [],
   "source": [
    "data = df.loc[(df['Custom status'] == 'Completed')] # & (df['Assigned To'] =='Sudharshan Govindan <sudharshan.govindan@in.ibm.com>')]\n",
    "#print(data)\n",
    "print('*******')\n",
    "#print(data['Assigned To'].values)\n",
    "type(data['Assigned To'].values)\n"
   ]
  },
  {
   "cell_type": "code",
   "execution_count": null,
   "metadata": {},
   "outputs": [],
   "source": [
    "lexicon    = Lexicon.getDefaultLexicon()\n",
    "nlgFactory = NLGFactory(lexicon)\n",
    "realiser   = Realiser(lexicon)\n",
    "\n",
    "sentence = nlgFactory.createSentence()\n",
    "clause = nlgFactory.createClause();"
   ]
  },
  {
   "cell_type": "code",
   "execution_count": null,
   "metadata": {},
   "outputs": [],
   "source": [
    "#assigned_to = data['Assigned To']\n",
    "#assigned_to = data['Assigned To'].astype('str').tail(1).tolist()\n",
    "\n",
    "#converting to string series \n",
    "#print('title ', data[\"Title\"])\n",
    "#title= data[\"Title\"].to_string()\n",
    "#assigned_to= data[\"Assigned To\"].to_string()\n",
    "#speakers= data[\"Speakers\"].to_string()\n",
    "#start_date= data[\"Start Date\"].to_string()\n",
    "\n",
    "#print(type(data[\"Assigned To\"].to_string()), type(assigned_to))\n",
    "\n",
    "title= data[\"Title\"].values\n",
    "assigned_to = data['Assigned To'].values\n",
    "speakers = data[\"Speakers\"].values\n",
    "start_date= data[\"Start Date\"].values\n",
    "project_event_type = data[\"Project/Event Type\"].values\n",
    "event_project_city = data[\"Event/Project City\"].values\n",
    "developers_reached_actual = data[\"Developers Reached - Actual\"].values\n",
    "\n",
    "#print('\\n ***** \\n title:', title, ' assigned_to:', assigned_to, ' speakers:', speakers, ' start_date:',start_date)\n",
    "print(type(start_date[1]), start_date[1], np.datetime_as_string(start_date[1]), type(np.datetime_as_string(start_date[1])))\n",
    "\n",
    "sentence_1 = nlgFactory.createSentence()\n",
    "clause_1 = nlgFactory.createClause();\n",
    "\n",
    "sub1 = nlgFactory.createNounPhrase(speakers[1])\n",
    "verb1 = nlgFactory.createVerbPhrase(\"conduct\")\n",
    "verb1.setFeature(Feature.FORM, Form.PAST_PARTICIPLE)\n",
    "#clause.setFeature(Feature.TENSE, Tense.PAST)\n",
    "obj1 = nlgFactory.createNounPhrase('\"' + title[1] + '\"' + ' ' + project_event_type[1])\n",
    "#obj2 = nlgFactory.createNounPhrase(project_event_type[0])\n",
    "#sub2 = nlgFactory.createNounPhrase(assigned_to[0])\n",
    "\n",
    "on_preposition = nlgFactory.createPrepositionPhrase(\"on\")\n",
    "startdate = nlgFactory.createNounPhrase(np.datetime_as_string(start_date[1]))  # ***\n",
    "#nlgFactory.createNounPhrase(start_date[1])\n",
    "\n",
    "on_preposition.addComplement(startdate)\n",
    "    \n",
    "clause_1.setSubject(sub1)\n",
    "clause_1.setVerb(verb1)\n",
    "clause_1.setObject(obj1);\n",
    "\n",
    "clause_1.addComplement(on_preposition);\n",
    "\n",
    "if(project_event_type[1] !='Webinar'):\n",
    "    at_preposition = nlgFactory.createPrepositionPhrase(\"at\");\n",
    "    location = nlgFactory.createNounPhrase(event_project_city[1])\n",
    "    at_preposition.addComplement(location)\n",
    "    clause_1.addComplement(at_preposition)\n",
    "\n",
    "\n",
    "sentence_1.addComponent(clause_1)\n",
    "print(realiser.realise(sentence_1))\n",
    "\n"
   ]
  },
  {
   "cell_type": "code",
   "execution_count": null,
   "metadata": {},
   "outputs": [],
   "source": [
    "sentence_2 = nlgFactory.createSentence()\n",
    "clause_2 = nlgFactory.createClause();\n",
    "\n",
    "sub2 = nlgFactory.createNounPhrase('number of developers')\n",
    "sub2.setDeterminer(\"the\")\n",
    "sub2.setPlural(True)\n",
    "verb2 = nlgFactory.createVerbPhrase(\"attend\")\n",
    "verb2.setFeature(Feature.FORM, Form.PAST_PARTICIPLE)\n",
    "clause.setFeature(Feature.TENSE, Tense.PAST)\n",
    "\n",
    "#clause.setFeature(Feature.NUMBER, 11)\n",
    "is_preposition = nlgFactory.createPrepositionPhrase(\"is\");\n",
    "obj2 = nlgFactory.createNounPhrase(developers_reached_actual[1].astype(str)) # ***\n",
    "is_preposition.addComplement(obj2)\n",
    "\n",
    "clause_2.setSubject(sub2)\n",
    "clause_2.setVerb(verb2)\n",
    "#clause_2.setObject(obj2);\n",
    "\n",
    "clause_2.addComplement(is_preposition);\n",
    "\n",
    "sentence_2 = nlgFactory.createSentence()\n",
    "sentence_2.addComponent(clause_2)\n",
    "print(realiser.realise(sentence_2))"
   ]
  },
  {
   "cell_type": "code",
   "execution_count": null,
   "metadata": {},
   "outputs": [],
   "source": [
    "para1 = nlgFactory.createParagraph()\n",
    "para1.addComponent(sentence_1)\n",
    "para1.addComponent(sentence_2)\n",
    "print(realiser.realise(para1).getRealisation())"
   ]
  },
  {
   "cell_type": "markdown",
   "metadata": {},
   "source": [
    "# Creating Section"
   ]
  },
  {
   "cell_type": "code",
   "execution_count": null,
   "metadata": {},
   "outputs": [],
   "source": [
    "section = nlgFactory.createSection()\n",
    "section.addComponent(para1)\n",
    "print(realiser.realise(section).getRealisation())"
   ]
  },
  {
   "cell_type": "markdown",
   "metadata": {},
   "source": [
    "# Creating multiple Sections"
   ]
  },
  {
   "cell_type": "code",
   "execution_count": null,
   "metadata": {},
   "outputs": [],
   "source": [
    "testDocument = nlgFactory.createDocument(\"Test Document\")\n",
    "testSection = nlgFactory.createSection(\"Test Section\")\n",
    "testParagraph = nlgFactory.createParagraph()\n",
    "testSentence = nlgFactory.createSentence('This is sentence within second paragraph')\n",
    "\n",
    "testParagraph.addComponent(testSentence)\n",
    "testSection.addComponent(testParagraph)\n",
    "testDocument.addComponent(testSection)\n",
    "\n",
    "testDocument.addComponent(section)\n",
    "\n",
    "print(realiser.realise(testDocument).getRealisation())"
   ]
  },
  {
   "cell_type": "code",
   "execution_count": null,
   "metadata": {},
   "outputs": [],
   "source": [
    "from datetime import datetime\n",
    "\n",
    "now = datetime.now()\n",
    "print(now)\n",
    "date_time_str = now.strftime(\"%m/%d/%Y, %H:%M:%S\")\n",
    "date_time_str"
   ]
  },
  {
   "cell_type": "code",
   "execution_count": null,
   "metadata": {},
   "outputs": [],
   "source": []
  }
 ],
 "metadata": {
  "kernelspec": {
   "display_name": "Python 3",
   "language": "python",
   "name": "python3"
  },
  "language_info": {
   "codemirror_mode": {
    "name": "ipython",
    "version": 3
   },
   "file_extension": ".py",
   "mimetype": "text/x-python",
   "name": "python",
   "nbconvert_exporter": "python",
   "pygments_lexer": "ipython3",
   "version": "3.7.2"
  }
 },
 "nbformat": 4,
 "nbformat_minor": 2
}
