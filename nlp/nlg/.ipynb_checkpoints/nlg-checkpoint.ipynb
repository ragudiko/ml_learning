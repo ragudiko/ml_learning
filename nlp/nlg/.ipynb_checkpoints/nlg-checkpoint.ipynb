{
 "cells": [
  {
   "cell_type": "code",
   "execution_count": 1,
   "metadata": {},
   "outputs": [
    {
     "name": "stdout",
     "output_type": "stream",
     "text": [
      "Collecting nlglib\n",
      "\u001b[?25l  Downloading https://files.pythonhosted.org/packages/d2/bd/e3572164a3aaa806019c6f51c53d036d256b7c8fc03a880d3a2e073675cd/nlglib-0.2.1-py3-none-any.whl (3.3MB)\n",
      "\u001b[K    100% |████████████████████████████████| 3.3MB 7.6MB/s eta 0:00:01\n",
      "\u001b[?25hRequirement already satisfied: nltk in /Users/rajeshgudikoti/anaconda3/lib/python3.7/site-packages (from nlglib) (3.2)\n",
      "Installing collected packages: nlglib\n",
      "Successfully installed nlglib-0.2.1\n",
      "\u001b[33mYou are using pip version 19.0.1, however version 19.0.3 is available.\n",
      "You should consider upgrading via the 'pip install --upgrade pip' command.\u001b[0m\n"
     ]
    }
   ],
   "source": [
    "# https://pypi.org/project/nlglib/\n",
    "!pip3 install nlglib"
   ]
  },
  {
   "cell_type": "code",
   "execution_count": 2,
   "metadata": {},
   "outputs": [],
   "source": [
    "from nlglib.realisation.simplenlg.realisation import Realiser\n",
    "from nlglib.microplanning import *"
   ]
  },
  {
   "cell_type": "code",
   "execution_count": 3,
   "metadata": {},
   "outputs": [],
   "source": [
    "realise_en = Realiser(host='nlg.kutlak.info', port=40000)\n",
    "realise_es = Realiser(host='nlg.kutlak.info', port=40001)"
   ]
  },
  {
   "cell_type": "code",
   "execution_count": 5,
   "metadata": {},
   "outputs": [
    {
     "name": "stdout",
     "output_type": "stream",
     "text": [
      "María persiguió un mono.\n",
      "La rápida corredora persigue un mono.\n",
      "This example shows how cool simplenlg is.\n",
      "Ragvendra Despande IBM Advocate conducts Blockachain session.\n"
     ]
    }
   ],
   "source": [
    "def main():\n",
    "    p = Clause(\"María\", \"perseguir\", \"un mono\")\n",
    "    p['TENSE'] = 'PAST'\n",
    "    # expected = 'María persigue un mono.'\n",
    "    print(realise_es(p))\n",
    "    p = Clause(NP(\"la\", \"rápida\", \"corredora\"), VP(\"perseguir\"), NP(\"un\", \"mono\"))\n",
    "    subject = NP(\"la\", \"corredora\")\n",
    "    objekt = NP(\"un\", \"mono\")\n",
    "    verb = VP(\"perseguir\")\n",
    "    subject.premodifiers.append(\"rápida\")\n",
    "    p.subject = subject\n",
    "    p.predicate = verb\n",
    "    p.object = objekt\n",
    "    # expected = 'La rápida corredora persigue un mono.'\n",
    "    print(realise_es(p))\n",
    "    p = Clause(NP('this', 'example'), VP('show', 'how cool simplenlg is'))\n",
    "    # expected = This example shows how cool simplenlg is.\n",
    "    print(realise_en(p))\n",
    "    \n",
    "    p = Clause(NP('Ragvendra Despande', 'IBM Advocate'), VP('conduct', 'Blockachain session'))\n",
    "    print(realise_en(p))\n",
    "\n",
    "\n",
    "if __name__ == '__main__':\n",
    "    main()"
   ]
  },
  {
   "cell_type": "code",
   "execution_count": null,
   "metadata": {},
   "outputs": [],
   "source": []
  },
  {
   "cell_type": "code",
   "execution_count": 6,
   "metadata": {},
   "outputs": [
    {
     "name": "stdout",
     "output_type": "stream",
     "text": [
      "Collecting simplenlg\n",
      "\u001b[?25l  Downloading https://files.pythonhosted.org/packages/fb/81/2394ff7f3d562f2229e4b4859d66913296d96e409db1443f226aeaa840df/simplenlg-0.2.0-py3-none-any.whl (165kB)\n",
      "\u001b[K    100% |████████████████████████████████| 174kB 631kB/s ta 0:00:01\n",
      "\u001b[?25hInstalling collected packages: simplenlg\n",
      "Successfully installed simplenlg-0.2.0\n",
      "\u001b[33mYou are using pip version 19.0.1, however version 19.0.3 is available.\n",
      "You should consider upgrading via the 'pip install --upgrade pip' command.\u001b[0m\n"
     ]
    }
   ],
   "source": [
    "# https://github.com/bjascob/pySimpleNLG\n",
    "!pip3 install simplenlg\n"
   ]
  },
  {
   "cell_type": "code",
   "execution_count": 48,
   "metadata": {},
   "outputs": [],
   "source": [
    "from simplenlg.realiser.english.Realiser    import *\n",
    "from simplenlg.phrasespec import *\n",
    "#from nlglib.microplanning import *"
   ]
  },
  {
   "cell_type": "code",
   "execution_count": null,
   "metadata": {},
   "outputs": [],
   "source": []
  },
  {
   "cell_type": "code",
   "execution_count": 12,
   "metadata": {},
   "outputs": [],
   "source": [
    "#!pip install markover"
   ]
  },
  {
   "cell_type": "markdown",
   "metadata": {},
   "source": [
    "# Sample examples"
   ]
  },
  {
   "cell_type": "code",
   "execution_count": 38,
   "metadata": {},
   "outputs": [],
   "source": [
    "from simplenlg import NLGFactory\n",
    "from simplenlg import Lexicon\n",
    "from simplenlg import Realiser as realiser\n",
    "from simplenlg.phrasespec import *"
   ]
  },
  {
   "cell_type": "code",
   "execution_count": 52,
   "metadata": {},
   "outputs": [
    {
     "name": "stdout",
     "output_type": "stream",
     "text": [
      "Rajesh writes the blog.\n"
     ]
    }
   ],
   "source": [
    "lexicon    = Lexicon.getDefaultLexicon()\n",
    "nlgFactory = NLGFactory(lexicon)\n",
    "realiser   = Realiser(lexicon)\n",
    "\n",
    "sentence1 = nlgFactory.createSentence()\n",
    "\n",
    "clause_1 = nlgFactory.createClause();\n",
    "#subject1 = nlgFactory._createNP1(\"Rajesh\")\n",
    "subject1 = nlgFactory.createNounPhrase(\"Rajesh\")\n",
    "\n",
    "object1 = nlgFactory.createNounPhrase(\"the blog\")\n",
    "verb = nlgFactory.createVerbPhrase(\"write\")\n",
    "clause_1.setSubject(subject1)\n",
    "clause_1.setObject(object1)\n",
    "clause_1.setVerb(verb)\n",
    "\n",
    "sentence1.addComponent(clause_1)\n",
    "elements = [sentence1]\n",
    "print(realiser.realise(sentence1))\n"
   ]
  },
  {
   "cell_type": "code",
   "execution_count": 54,
   "metadata": {},
   "outputs": [
    {
     "name": "stdout",
     "output_type": "stream",
     "text": [
      "Rajesh and team member Ramesh write the blog.\n"
     ]
    }
   ],
   "source": [
    "clause_2 = nlgFactory.createClause()\n",
    "subject2 = nlgFactory.createNounPhrase(\"team member\", \"Ramesh\")\n",
    "subject = nlgFactory.createCoordinatedPhrase(subject1, subject2) \n",
    "clause_2.setSubject(subject)\n",
    "clause_2.setObject(object1)\n",
    "clause_2.setVerb(verb)\n",
    "\n",
    "sentence2 = nlgFactory.createSentence()\n",
    "sentence2.addComponent(clause_2)\n",
    "\n",
    "print(realiser.realise(sentence2))"
   ]
  },
  {
   "cell_type": "code",
   "execution_count": 59,
   "metadata": {},
   "outputs": [
    {
     "name": "stdout",
     "output_type": "stream",
     "text": [
      "Rajesh and team member Ramesh write the blog, create pattern or tutorials.\n"
     ]
    }
   ],
   "source": [
    "clause_3 = nlgFactory.createClause()\n",
    "object2 = nlgFactory.createNounPhrase(\"create pattern\")\n",
    "obj = nlgFactory.createCoordinatedPhrase(object1, object2)\n",
    "obj.addCoordinate(\"tutorials\")\n",
    "obj.setFeature(Feature.CONJUNCTION, \"or\") ## if this is commented then you will get and instead of or\n",
    "clause_3.setSubject(subject)\n",
    "clause_3.setVerb(verb)\n",
    "clause_3.setObject(obj);\n",
    "\n",
    "sentence3 = nlgFactory.createSentence()\n",
    "sentence3.addComponent(clause_3)\n",
    "print(realiser.realise(sentence3))"
   ]
  },
  {
   "cell_type": "markdown",
   "metadata": {},
   "source": [
    "# Explore wrike report"
   ]
  },
  {
   "cell_type": "code",
   "execution_count": 64,
   "metadata": {},
   "outputs": [],
   "source": [
    "from simplenlg import NLGFactory\n",
    "from simplenlg import Lexicon\n",
    "from simplenlg import Realiser as realiser\n",
    "from simplenlg.phrasespec import *"
   ]
  },
  {
   "cell_type": "code",
   "execution_count": 60,
   "metadata": {},
   "outputs": [],
   "source": [
    "import pandas as pd"
   ]
  },
  {
   "cell_type": "code",
   "execution_count": 61,
   "metadata": {},
   "outputs": [
    {
     "name": "stdout",
     "output_type": "stream",
     "text": [
      "['Tasks']\n",
      "                                               Title Custom status  \\\n",
      "0  Sony - Enterprise Design Thinking workshop - B...        Active   \n",
      "\n",
      "                                         Assigned To Start Date Duration  \\\n",
      "0  Sudharshan Govindan <sudharshan.govindan@in.ib... 2019-01-25    1 day   \n",
      "\n",
      "  Duration (Hours)  Effort  Time Spent (Hours)   End Date  Depends On  \\\n",
      "0         08:00:00     NaN                 NaN 2019-01-25         NaN   \n",
      "\n",
      "      ...       blog post url livestream url Coders Recruited - Estimate  \\\n",
      "0     ...                 NaN            NaN                         NaN   \n",
      "\n",
      "   Tech Content Attendance External Zoom Code Contributed  \\\n",
      "0           NaN                      NaN              NaN   \n",
      "\n",
      "  Promotional Submitted  Content Submitted Social Media  help wanted  \n",
      "0                   NaN                NaN          NaN          NaN  \n",
      "\n",
      "[1 rows x 49 columns]\n"
     ]
    }
   ],
   "source": [
    "xl = pd.ExcelFile(\"/Users/rajeshgudikoti/Documents/rajesh/learning/nlp/nlg/Wrike Report-Feb 25.xls\")\n",
    "print(xl.sheet_names)\n",
    "df = xl.parse()\n",
    "print(df.head(1))"
   ]
  },
  {
   "cell_type": "code",
   "execution_count": 110,
   "metadata": {},
   "outputs": [
    {
     "name": "stdout",
     "output_type": "stream",
     "text": [
      "*******\n",
      "['Sudharshan Govindan <sudharshan.govindan@in.ibm.com>'\n",
      " 'Sudharshan Govindan <sudharshan.govindan@in.ibm.com>']\n"
     ]
    },
    {
     "data": {
      "text/plain": [
       "str"
      ]
     },
     "execution_count": 110,
     "metadata": {},
     "output_type": "execute_result"
    }
   ],
   "source": [
    "data = df.loc[(df['Custom status'] == 'Completed') & (df['Assigned To'] =='Sudharshan Govindan <sudharshan.govindan@in.ibm.com>')]\n",
    "#print(data)\n",
    "print('*******')\n",
    "print(data['Assigned To'].values)\n",
    "type(data['Assigned To'].values)\n"
   ]
  },
  {
   "cell_type": "code",
   "execution_count": 66,
   "metadata": {},
   "outputs": [],
   "source": [
    "lexicon    = Lexicon.getDefaultLexicon()\n",
    "nlgFactory = NLGFactory(lexicon)\n",
    "realiser   = Realiser(lexicon)\n",
    "\n",
    "sentence = nlgFactory.createSentence()\n",
    "clause = nlgFactory.createClause();"
   ]
  },
  {
   "cell_type": "code",
   "execution_count": 127,
   "metadata": {},
   "outputs": [
    {
     "ename": "NameError",
     "evalue": "name 'at_preposition' is not defined",
     "output_type": "error",
     "traceback": [
      "\u001b[0;31m---------------------------------------------------------------------------\u001b[0m",
      "\u001b[0;31mNameError\u001b[0m                                 Traceback (most recent call last)",
      "\u001b[0;32m<ipython-input-127-cd909d155424>\u001b[0m in \u001b[0;36m<module>\u001b[0;34m()\u001b[0m\n\u001b[1;32m     34\u001b[0m \u001b[0mclause\u001b[0m\u001b[0;34m.\u001b[0m\u001b[0msetVerb\u001b[0m\u001b[0;34m(\u001b[0m\u001b[0mverb\u001b[0m\u001b[0;34m)\u001b[0m\u001b[0;34m\u001b[0m\u001b[0;34m\u001b[0m\u001b[0m\n\u001b[1;32m     35\u001b[0m \u001b[0mclause\u001b[0m\u001b[0;34m.\u001b[0m\u001b[0msetObject\u001b[0m\u001b[0;34m(\u001b[0m\u001b[0mobj1\u001b[0m\u001b[0;34m)\u001b[0m\u001b[0;34m;\u001b[0m\u001b[0;34m\u001b[0m\u001b[0;34m\u001b[0m\u001b[0m\n\u001b[0;32m---> 36\u001b[0;31m \u001b[0mclause\u001b[0m\u001b[0;34m.\u001b[0m\u001b[0maddComplement\u001b[0m\u001b[0;34m(\u001b[0m\u001b[0mat_preposition\u001b[0m\u001b[0;34m)\u001b[0m\u001b[0;34m\u001b[0m\u001b[0;34m\u001b[0m\u001b[0m\n\u001b[0m\u001b[1;32m     37\u001b[0m \u001b[0;34m\u001b[0m\u001b[0m\n\u001b[1;32m     38\u001b[0m \u001b[0msentence\u001b[0m \u001b[0;34m=\u001b[0m \u001b[0mnlgFactory\u001b[0m\u001b[0;34m.\u001b[0m\u001b[0mcreateSentence\u001b[0m\u001b[0;34m(\u001b[0m\u001b[0;34m)\u001b[0m\u001b[0;34m\u001b[0m\u001b[0;34m\u001b[0m\u001b[0m\n",
      "\u001b[0;31mNameError\u001b[0m: name 'at_preposition' is not defined"
     ]
    }
   ],
   "source": [
    "#assigned_to = data['Assigned To']\n",
    "#assigned_to = data['Assigned To'].astype('str').tail(1).tolist()\n",
    "\n",
    "#converting to string series \n",
    "#print('title ', data[\"Title\"])\n",
    "#title= data[\"Title\"].to_string()\n",
    "#assigned_to= data[\"Assigned To\"].to_string()\n",
    "#speakers= data[\"Speakers\"].to_string()\n",
    "#start_date= data[\"Start Date\"].to_string()\n",
    "\n",
    "#print(type(data[\"Assigned To\"].to_string()), type(assigned_to))\n",
    "\n",
    "title= data[\"Title\"].values\n",
    "assigned_to = data['Assigned To'].values\n",
    "speakers = data[\"Speakers\"].values\n",
    "start_date= data[\"Start Date\"].values\n",
    "project_event_type = data[\"Project/Event Type\"].values\n",
    "event_project_city = data[\"Event/Project City\"].values\n",
    "\n",
    "#print('\\n ***** \\n title:', title, ' assigned_to:', assigned_to, ' speakers:', speakers, ' start_date:',start_date)\n",
    "#print(project_event_type)\n",
    "\n",
    "sub1 = nlgFactory.createNounPhrase(speakers[0])\n",
    "verb = nlgFactory.createVerbPhrase(\"conduct\")\n",
    "clause.setFeature(Feature.TENSE, Tense.PAST)\n",
    "obj1 = nlgFactory.createNounPhrase(title[0] + ' ' + project_event_type[0])\n",
    "#obj2 = nlgFactory.createNounPhrase(project_event_type[0])\n",
    "#sub2 = nlgFactory.createNounPhrase(assigned_to[0])\n",
    "\n",
    "clause.setSubject(sub1)\n",
    "clause.setVerb(verb)\n",
    "clause.setObject(obj1);\n",
    "if(project_event_type[0] !='Webinar'):\n",
    "    at_preposition = nlgFactory.createPrepositionPhrase(\"at\");\n",
    "    location = nlgFactory.createNounPhrase(event_project_city[0])\n",
    "    at_preposition.addComplement(location[0])\n",
    "    clause.addComplement(at_preposition)\n",
    "\n",
    "sentence = nlgFactory.createSentence()\n",
    "sentence.addComponent(clause)\n",
    "print(realiser.realise(sentence))"
   ]
  },
  {
   "cell_type": "code",
   "execution_count": null,
   "metadata": {},
   "outputs": [],
   "source": []
  },
  {
   "cell_type": "code",
   "execution_count": null,
   "metadata": {},
   "outputs": [],
   "source": []
  }
 ],
 "metadata": {
  "kernelspec": {
   "display_name": "Python 3",
   "language": "python",
   "name": "python3"
  },
  "language_info": {
   "codemirror_mode": {
    "name": "ipython",
    "version": 3
   },
   "file_extension": ".py",
   "mimetype": "text/x-python",
   "name": "python",
   "nbconvert_exporter": "python",
   "pygments_lexer": "ipython3",
   "version": "3.7.2"
  }
 },
 "nbformat": 4,
 "nbformat_minor": 2
}
