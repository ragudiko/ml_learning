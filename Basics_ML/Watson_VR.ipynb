{
 "cells": [
  {
   "cell_type": "code",
   "execution_count": null,
   "metadata": {},
   "outputs": [],
   "source": []
  },
  {
   "cell_type": "code",
   "execution_count": 12,
   "metadata": {},
   "outputs": [],
   "source": [
    "import requests\n"
   ]
  },
  {
   "cell_type": "code",
   "execution_count": 17,
   "metadata": {},
   "outputs": [
    {
     "data": {
      "text/plain": [
       "<Response [400]>"
      ]
     },
     "execution_count": 17,
     "metadata": {},
     "output_type": "execute_result"
    }
   ],
   "source": [
    "with open('/Users/rajeshgudikoti/Downloads/fruitbowl.jpg', 'rb') as image_file:\n",
    "            classes = requests.post(\n",
    "                'https://api.us-south.visual-recognition.watson.cloud.ibm.com/v3/classify',\n",
    "                auth=('apikey', 'pgIHOewG1mmdYJlbInysy5rPLMomMwfrvC4PROkvVu0m'),\n",
    "                files={'images_file': '/Users/rajeshgudikoti/Downloads/fruitbowl.jpg'},\n",
    "                params={\n",
    "                    'version': '2016-05-20',\n",
    "                    'classifier_ids': 'explicit'})\n",
    "classes"
   ]
  },
  {
   "cell_type": "code",
   "execution_count": 3,
   "metadata": {},
   "outputs": [
    {
     "name": "stdout",
     "output_type": "stream",
     "text": [
      "/Users/rajeshgudikoti/Downloads/fruitbowl.jpg\r\n"
     ]
    }
   ],
   "source": [
    "!ls ~/Downloads/fruitbowl.jpg"
   ]
  },
  {
   "cell_type": "code",
   "execution_count": null,
   "metadata": {},
   "outputs": [],
   "source": []
  },
  {
   "cell_type": "code",
   "execution_count": 36,
   "metadata": {},
   "outputs": [
    {
     "name": "stdout",
     "output_type": "stream",
     "text": [
      "{'images': [{'classifiers': [{'classifier_id': 'default', 'name': 'default', 'classes': [{'class': 'classroom', 'score': 0.674, 'type_hierarchy': '/room/classroom'}, {'class': 'room', 'score': 0.675}, {'class': 'pale yellow color', 'score': 0.713}]}], 'image': 'sample.jpeg'}], 'images_processed': 1, 'custom_classes': 0}\n"
     ]
    }
   ],
   "source": [
    "import json\n",
    "from ibm_watson import VisualRecognitionV3\n",
    "from ibm_cloud_sdk_core.authenticators import IAMAuthenticator\n",
    "\n",
    "authenticator = IAMAuthenticator('5bWoFoXRHoVgbCTj7heE1lyjS-pQeElFT_Ho9uU9kLKq')\n",
    "visual_recognition = VisualRecognitionV3(\n",
    "    version='2018-03-19',\n",
    "    authenticator=authenticator\n",
    ")\n",
    "\n",
    "visual_recognition.set_service_url('https://api.us-south.visual-recognition.watson.cloud.ibm.com/instances/b7123dd3-e1d0-4a21-9576-bef37d76f14f')\n",
    "\n",
    "with open('/Users/rajeshgudikoti/Downloads/sample.jpeg', 'rb') as images_file:\n",
    "    classes = visual_recognition.classify(\n",
    "        images_file=images_file,\n",
    "        threshold='0.6'\n",
    "        ,#owners=[\"me\"]\n",
    "    ).get_result()\n",
    "        \n",
    "    print((classes))"
   ]
  },
  {
   "cell_type": "code",
   "execution_count": 46,
   "metadata": {},
   "outputs": [
    {
     "data": {
      "text/plain": [
       "<Response [400]>"
      ]
     },
     "execution_count": 46,
     "metadata": {},
     "output_type": "execute_result"
    }
   ],
   "source": [
    "with open('/Users/rajeshgudikoti/Downloads/sample.jpeg', 'rb') as image_file:\n",
    "            classes = requests.post(\n",
    "                'https://api.us-south.visual-recognition.watson.cloud.ibm.com/instances/b7123dd3-e1d0-4a21-9576-bef37d76f14f/v3/classify',\n",
    "                auth=('apikey', '5bWoFoXRHoVgbCTj7heE1lyjS-pQeElFT_Ho9uU9kLKq')\n",
    "                #,files={'images_file': '/Users/rajeshgudikoti/Downloads/sample.jpeg'},\n",
    "                ,params={\n",
    "                    'version': '2016-05-20',\n",
    "                    'classifier_ids': 'explicit',\n",
    "                'images_file': '/Users/rajeshgudikoti/Downloads/sample.jpeg'})\n",
    "classes"
   ]
  },
  {
   "cell_type": "code",
   "execution_count": null,
   "metadata": {},
   "outputs": [],
   "source": []
  }
 ],
 "metadata": {
  "kernelspec": {
   "display_name": "Python 3",
   "language": "python",
   "name": "python3"
  },
  "language_info": {
   "codemirror_mode": {
    "name": "ipython",
    "version": 3
   },
   "file_extension": ".py",
   "mimetype": "text/x-python",
   "name": "python",
   "nbconvert_exporter": "python",
   "pygments_lexer": "ipython3",
   "version": "3.7.6"
  }
 },
 "nbformat": 4,
 "nbformat_minor": 4
}
